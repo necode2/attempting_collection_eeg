{
 "cells": [
  {
   "cell_type": "code",
   "execution_count": 31,
   "id": "2ba54512",
   "metadata": {},
   "outputs": [],
   "source": [
    "import pylsl\n",
    "import time\n",
    "import pandas as pd\n",
    "import numpy as np\n",
    "import webbrowser\n",
    "import collections\n",
    "from collections import deque"
   ]
  },
  {
   "cell_type": "code",
   "execution_count": 32,
   "id": "eb5bccd4",
   "metadata": {},
   "outputs": [
    {
     "name": "stdout",
     "output_type": "stream",
     "text": [
      "['clip_name', 'video_url', 'clip_duration', 'rating']\n"
     ]
    }
   ],
   "source": [
    "# getting stimuli info\n",
    "stimuli_info = pd.read_csv('/Users/noorelbanna/Desktop/ProjectMUSEEG/Experiment/StimuliSet/relevant_vidData.csv')\n",
    "print(stimuli_info.columns.to_list())"
   ]
  },
  {
   "cell_type": "code",
   "execution_count": 33,
   "id": "497454e9",
   "metadata": {},
   "outputs": [],
   "source": [
    "# lsls markers outlet\n",
    "def lsl_marker_outlet(name):\n",
    "    # Make a new marker stream\n",
    "    info = pylsl.stream_info(name, 'Markers', 1, 0, pylsl.cf_string, 'eeg_markers')\n",
    "    outlet = pylsl.stream_outlet(info, 1, 1)\n",
    "    return outlet"
   ]
  },
  {
   "cell_type": "code",
   "execution_count": 34,
   "id": "878c9477",
   "metadata": {},
   "outputs": [
    {
     "name": "stdout",
     "output_type": "stream",
     "text": [
      "Looking for an EEG stream from OpenBCI GUI...\n",
      "EEG stream found!\n"
     ]
    }
   ],
   "source": [
    "print(\"Looking for an EEG stream from OpenBCI GUI...\")\n",
    "streams = pylsl.resolve_stream('type', 'EEG')\n",
    "inlet = pylsl.StreamInlet(streams[0])\n",
    "print(\"EEG stream found!\")"
   ]
  },
  {
   "cell_type": "code",
   "execution_count": 35,
   "id": "45a15a63",
   "metadata": {},
   "outputs": [
    {
     "name": "stdout",
     "output_type": "stream",
     "text": [
      "Stream name: muse_egg\n",
      "Type: EEG\n",
      "Nominal sampling rate: 125.0\n",
      "UID: 45c3e33b-8a92-419b-8a87-fb62a07679b6\n",
      "---\n"
     ]
    }
   ],
   "source": [
    "# stream info\n",
    "for s in streams:\n",
    "    print(\"Stream name:\", s.name())\n",
    "    print(\"Type:\", s.type())\n",
    "    print(\"Nominal sampling rate:\", s.nominal_srate())\n",
    "    print(\"UID:\", s.uid())\n",
    "    print(\"---\")"
   ]
  },
  {
   "cell_type": "code",
   "execution_count": 36,
   "id": "a92c3c46",
   "metadata": {},
   "outputs": [
    {
     "name": "stdout",
     "output_type": "stream",
     "text": [
      "Nominal sampling rate: 125.0\n",
      "Time correction: -4.944300053466577e-05\n"
     ]
    }
   ],
   "source": [
    "print(\"Nominal sampling rate:\", inlet.info().nominal_srate())\n",
    "print(\"Time correction:\", inlet.time_correction())\n"
   ]
  },
  {
   "cell_type": "code",
   "execution_count": null,
   "id": "4014f31a",
   "metadata": {},
   "outputs": [],
   "source": []
  },
  {
   "cell_type": "code",
   "execution_count": 37,
   "id": "ab394115",
   "metadata": {},
   "outputs": [
    {
     "name": "stderr",
     "output_type": "stream",
     "text": [
      "2025-10-14 17:01:57.629 (3786.899s) [           2934E]         udp_server.cpp:82    WARN| Could not bind multicast responder for ff02:113d:6fdd:2c17:a643:ffe2:1bd1:3cd2 to interface ::1 (Can't assign requested address)\n",
      "2025-10-14 17:01:57.632 (3786.902s) [           2934E]         udp_server.cpp:82    WARN| Could not bind multicast responder for ff02:113d:6fdd:2c17:a643:ffe2:1bd1:3cd2 to interface 2600:1700:5d81:30d0:8cf:6f3:681:7535 (Can't assign requested address)\n",
      "2025-10-14 17:01:57.632 (3786.902s) [           2934E]         udp_server.cpp:82    WARN| Could not bind multicast responder for ff02:113d:6fdd:2c17:a643:ffe2:1bd1:3cd2 to interface 2600:1700:5d81:30d0:cc13:9198:741:b3a7 (Can't assign requested address)\n",
      "2025-10-14 17:01:57.632 (3786.902s) [           2934E]         udp_server.cpp:82    WARN| Could not bind multicast responder for ff02:113d:6fdd:2c17:a643:ffe2:1bd1:3cd2 to interface 2600:1700:5d81:30d0::28 (Can't assign requested address)\n",
      "2025-10-14 17:01:57.634 (3786.904s) [           2934E]         udp_server.cpp:82    WARN| Could not bind multicast responder for ff05:113d:6fdd:2c17:a643:ffe2:1bd1:3cd2 to interface fe80::1cad:387:f628:ccad%en0 (Address already in use)\n",
      "2025-10-14 17:01:57.634 (3786.904s) [           2934E]         udp_server.cpp:82    WARN| Could not bind multicast responder for ff05:113d:6fdd:2c17:a643:ffe2:1bd1:3cd2 to interface 192.168.1.96 (Address already in use)\n",
      "2025-10-14 17:01:57.634 (3786.904s) [           2934E]         udp_server.cpp:82    WARN| Could not bind multicast responder for ff05:113d:6fdd:2c17:a643:ffe2:1bd1:3cd2 to interface 2600:1700:5d81:30d0:8cf:6f3:681:7535 (Address already in use)\n",
      "2025-10-14 17:01:57.634 (3786.904s) [           2934E]         udp_server.cpp:82    WARN| Could not bind multicast responder for ff05:113d:6fdd:2c17:a643:ffe2:1bd1:3cd2 to interface 2600:1700:5d81:30d0:cc13:9198:741:b3a7 (Address already in use)\n",
      "2025-10-14 17:01:57.634 (3786.904s) [           2934E]         udp_server.cpp:82    WARN| Could not bind multicast responder for ff05:113d:6fdd:2c17:a643:ffe2:1bd1:3cd2 to interface 2600:1700:5d81:30d0::28 (Address already in use)\n"
     ]
    }
   ],
   "source": [
    "# initalize LSL marker streams\n",
    "marker_outlet = lsl_marker_outlet('EEG_Markers') "
   ]
  },
  {
   "cell_type": "code",
   "execution_count": 38,
   "id": "352c2b7e",
   "metadata": {},
   "outputs": [],
   "source": [
    "subject_name = \"insert-name-here2\""
   ]
  },
  {
   "cell_type": "code",
   "execution_count": null,
   "id": "c39c520d",
   "metadata": {},
   "outputs": [
    {
     "name": "stdout",
     "output_type": "stream",
     "text": [
      "Starting trial 1 with rating negative for duration 150.48 seconds.\n",
      "Marker sent: START_Trial_1_Rating_negative\n",
      "Collected (9280, 17) samples for this video.\n"
     ]
    }
   ],
   "source": [
    "# should collect 18,750 samples for 150 seconds at 125 Hz for first video \n",
    "data_segment = deque()\n",
    "\n",
    "for i, row in stimuli_info.iterrows():\n",
    "    trial = row['rating']\n",
    "    url = row['video_url']\n",
    "    duration = row['clip_duration']  # in seconds\n",
    "\n",
    "    # open video link in browser\n",
    "    webbrowser.open(url)\n",
    "    time.sleep(5)  # type: ignore # wait for 5 seconds to ensure the browser opens\n",
    "    print(f\"Starting trial {i+1} with rating {trial} for duration {duration} seconds.\")\n",
    "\n",
    "    # wait for the duration of the video\n",
    "    marker_outlet.push_sample([f'START_Trial_{i+1}_Rating_{trial}'])\n",
    "    print(f\"Marker sent: START_Trial_{i+1}_Rating_{trial}\")\n",
    "    \n",
    "    # Collect EEG data during the video playback\n",
    "    start_time = time.time()\n",
    "\n",
    "    while (time.time() - start_time) < duration:\n",
    "        sample, timestamp = inlet.pull_sample(timeout=0.008)\n",
    "        if sample:\n",
    "            data_segment.append([timestamp] + sample)\n",
    "    \n",
    "    # After video ends, send end marker\n",
    "    marker_outlet.push_sample([f'END_Trial_{i+1}_Rating_{trial}'])\n",
    "\n",
    "    # Save the collected EEG data for this segment\n",
    "    eeg_array = np.array(data_segment)\n",
    "    print(f\"Collected {eeg_array.shape} samples for this video.\")\n",
    "\n",
    "    np.save(f\"/Users/noorelbanna/Desktop/ProjectMUSEEG/Experiment/StimuliSet/{trial}EEG/video_{i}_{subject_name}_EEG.npy\", eeg_array)\n",
    "\n",
    "    # ask if want to continue\n",
    "    cont = input(\"Do you want to continue to the next video? (y/n): \")\n",
    "    if cont.lower() != 'y':\n",
    "        break\n",
    "    \n",
    "\n"
   ]
  }
 ],
 "metadata": {
  "kernelspec": {
   "display_name": "base",
   "language": "python",
   "name": "python3"
  },
  "language_info": {
   "codemirror_mode": {
    "name": "ipython",
    "version": 3
   },
   "file_extension": ".py",
   "mimetype": "text/x-python",
   "name": "python",
   "nbconvert_exporter": "python",
   "pygments_lexer": "ipython3",
   "version": "3.13.5"
  }
 },
 "nbformat": 4,
 "nbformat_minor": 5
}
